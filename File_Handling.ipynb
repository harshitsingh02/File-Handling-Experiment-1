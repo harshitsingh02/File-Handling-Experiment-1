{
  "nbformat": 4,
  "nbformat_minor": 0,
  "metadata": {
    "colab": {
      "name": "File_Handling.ipynb",
      "provenance": [],
      "collapsed_sections": []
    },
    "kernelspec": {
      "display_name": "Python 3",
      "language": "python",
      "name": "python3"
    },
    "language_info": {
      "codemirror_mode": {
        "name": "ipython",
        "version": 3
      },
      "file_extension": ".py",
      "mimetype": "text/x-python",
      "name": "python",
      "nbconvert_exporter": "python",
      "pygments_lexer": "ipython3",
      "version": "3.7.7"
    }
  },
  "cells": [
    {
      "cell_type": "markdown",
      "metadata": {
        "id": "eaNq4Gmi9Qic"
      },
      "source": [
        "## Day09 - File Handling, use of lambda\n",
        "\n",
        "#### Topics\n",
        "1. File Handling\n",
        "2. Lambda\n",
        "\n",
        "##### Note: \n",
        "1. First Clean the Evironment (Go to \"Kernel\" Menu --> \"Restart & Clean Output\"\n",
        "2. To execute the code --> Click on a cell and press cntrl + enter key"
      ]
    },
    {
      "cell_type": "markdown",
      "metadata": {
        "id": "y3VrvYW2-6Ka"
      },
      "source": [
        "## 1: File Handling in Python"
      ]
    },
    {
      "cell_type": "markdown",
      "metadata": {
        "id": "AaEUQGmZQ88j"
      },
      "source": [
        "### 1.1: Read a file and print its content line by line"
      ]
    },
    {
      "cell_type": "code",
      "metadata": {
        "id": "eikxCFcN-7AR",
        "scrolled": true,
        "colab": {
          "base_uri": "https://localhost:8080/",
          "height": 0
        },
        "outputId": "c4848fda-bf96-476f-a111-e17819ccde4e"
      },
      "source": [
        "#------------------------------------------------------------------------\n",
        "# 1.1: Read a file and print its content line by line\n",
        "#------------------------------------------------------------------------\n",
        "\n",
        "# NOTE      : First create a file abc.txt and write some lines\n",
        "\n",
        "# Example 1:\n",
        "\n",
        "try:\n",
        "    fp = open('abc.txt')    # Open the file in reading mode\n",
        "    for line in fp:         # Print line by line\n",
        "        print (line)\n",
        "    fp.close()              # Close the file\n",
        "\n",
        "except:\n",
        "    print(\"Error!! No such file exist\")\n"
      ],
      "execution_count": 3,
      "outputs": [
        {
          "output_type": "stream",
          "text": [
            "Error!! No such file exist\n"
          ],
          "name": "stdout"
        }
      ]
    },
    {
      "cell_type": "code",
      "metadata": {
        "scrolled": true,
        "id": "IPi9fUBOQ88z"
      },
      "source": [
        "# Example 2:\n",
        "\n",
        "try:\n",
        "    with open('abc.txt', 'r') as f:\n",
        "        line  = f.read()\n",
        "        print (line)\n",
        "\n",
        "except:\n",
        "    print(\"Error!! No such file exist\")\n"
      ],
      "execution_count": null,
      "outputs": []
    },
    {
      "cell_type": "code",
      "metadata": {
        "scrolled": true,
        "id": "2CeoOl2wQ881"
      },
      "source": [
        "# Example 3: Absolute Path\n",
        "\n",
        "fileName1=\"E:/cu/Disruptive Technologies - 1/Task 1/Basics of Python/textdata.txt\"\n",
        "#fileName2=\"F:/Desktop Data/Thapar Data/UCS538 Data Science Fundamentals/03 - Slides/abc.txt\"\n",
        "\n",
        "try:\n",
        "    with open(fileName1, 'r') as f:\n",
        "        line  = f.read()\n",
        "        print (line)\n",
        "\n",
        "except:\n",
        "    print(\"Error!! No such file exist\")\n"
      ],
      "execution_count": null,
      "outputs": []
    },
    {
      "cell_type": "markdown",
      "metadata": {
        "id": "sLox7Bh-Q882"
      },
      "source": [
        "### 1.2: Writing 1 to 10 in file"
      ]
    },
    {
      "cell_type": "code",
      "metadata": {
        "scrolled": true,
        "id": "0_5W7vHlQ883",
        "colab": {
          "base_uri": "https://localhost:8080/",
          "height": 0
        },
        "outputId": "eb870cb5-bed5-4d66-d9e9-99d718724994"
      },
      "source": [
        "#------------------------------------------------------------------------\n",
        "# 1.2: Writing 1 to 10 in file\n",
        "#------------------------------------------------------------------------\n",
        "\n",
        "# Example 1:\n",
        "\n",
        "fp = open('textdata.txt','w')      # Open the file in writing mode\n",
        "\n",
        "for i in range(1,11):\n",
        "    fp.write(str(i) + \"\\n\")      # Writing to the file line by line\n",
        "fp.close()\n",
        "\n",
        "print (\"Writing done !! \\nOpen result.txt to view the content\")\n"
      ],
      "execution_count": 17,
      "outputs": [
        {
          "output_type": "stream",
          "text": [
            "Writing done !! \n",
            "Open result.txt to view the content\n"
          ],
          "name": "stdout"
        }
      ]
    },
    {
      "cell_type": "code",
      "metadata": {
        "scrolled": true,
        "id": "SGHOpMnvQ885",
        "colab": {
          "base_uri": "https://localhost:8080/",
          "height": 0
        },
        "outputId": "5e0ca204-482f-4ec8-96bc-0fe9e1a87cce"
      },
      "source": [
        "# Example 2:\n",
        "\n",
        "with open('result.txt', 'w') as f:\n",
        "    for i in range(1,11):\n",
        "        f.write(str(i) + \"\\n\")\n",
        "\n",
        "print (\"Writing done !! \\nOpen result.txt to view the content\")\n"
      ],
      "execution_count": 18,
      "outputs": [
        {
          "output_type": "stream",
          "text": [
            "Writing done !! \n",
            "Open result.txt to view the content\n"
          ],
          "name": "stdout"
        }
      ]
    },
    {
      "cell_type": "markdown",
      "metadata": {
        "id": "aH5VMlUNQ886"
      },
      "source": [
        "### 1.3: Read from one file, Convert it to upper case and write to other file"
      ]
    },
    {
      "cell_type": "code",
      "metadata": {
        "scrolled": true,
        "id": "ExiS0e4fQ887",
        "colab": {
          "base_uri": "https://localhost:8080/",
          "height": 0
        },
        "outputId": "88795007-b7fd-46e3-a349-ef87619f6fbf"
      },
      "source": [
        "#------------------------------------------------------------------------\n",
        "# 1.3: Read from one file, Convert it to upper case and write to other file\n",
        "#------------------------------------------------------------------------\n",
        "try:\n",
        "    readFp  = open('textdata.txt')          # Open the file in reading mode\n",
        "    writeFp = open('result.txt','w')    # Open the file in writing mode\n",
        "\n",
        "    for line in readFp: \n",
        "        writeFp.write(line.upper())\n",
        "\n",
        "    readFp.close()\n",
        "    writeFp.close()\n",
        "\n",
        "    print (\"Writing done !! \\nOpen result.txt to view the content\")\n",
        "\n",
        "except:\n",
        "    print(\"Error !! Unable to open file.\")"
      ],
      "execution_count": 20,
      "outputs": [
        {
          "output_type": "stream",
          "text": [
            "Writing done !! \n",
            "Open result.txt to view the content\n"
          ],
          "name": "stdout"
        }
      ]
    },
    {
      "cell_type": "markdown",
      "metadata": {
        "id": "61MemQebQ889"
      },
      "source": [
        "### 1.4: Appending to a file"
      ]
    },
    {
      "cell_type": "code",
      "metadata": {
        "scrolled": true,
        "id": "qj0yqEtdQ889"
      },
      "source": [
        "#------------------------------------------------------------------------\n",
        "# 1.4: Appending to a file\n",
        "#------------------------------------------------------------------------\n",
        "try:\n",
        "    readFp  = open('textdata.txt')          # Open the file in reading mode\n",
        "    writeFp = open('result.txt','a')    # Open the file in Append mode\n",
        "\n",
        "    for line in readFp: \n",
        "        writeFp.write(line)\n",
        "\n",
        "    readFp.close()\n",
        "    writeFp.close()\n",
        "\n",
        "    print (\"Writing done !! \\nOpen result.txt to view the content\")\n",
        "\n",
        "except:\n",
        "    print(\"Error !! Unable to open file.\")"
      ],
      "execution_count": null,
      "outputs": []
    },
    {
      "cell_type": "markdown",
      "metadata": {
        "id": "YZLz5FsqQ88_"
      },
      "source": [
        "### 1.5: Creating a file\n",
        "##### \"x\" - Create - will create a file, returns an error if the file exist"
      ]
    },
    {
      "cell_type": "code",
      "metadata": {
        "scrolled": true,
        "id": "2wYYMUhrQ88_"
      },
      "source": [
        "#------------------------------------------------------------------------\n",
        "# 1.5: Creating a file\n",
        "#------------------------------------------------------------------------\n",
        "try:\n",
        "    writeFp = open('result.txt','x')    # Open the file in Append mode\n",
        "    writeFp.close()\n",
        "\n",
        "    print (\"Done\")\n",
        "\n",
        "except:\n",
        "    print(\"Error !! File already exist.\")"
      ],
      "execution_count": null,
      "outputs": []
    },
    {
      "cell_type": "markdown",
      "metadata": {
        "id": "OQoe8jENQ89A"
      },
      "source": [
        "### 1.6: get all the files (and directories) in the current directory - Version 1"
      ]
    },
    {
      "cell_type": "code",
      "metadata": {
        "scrolled": true,
        "id": "UAzZHogPQ89B"
      },
      "source": [
        "#------------------------------------------------------------------------\n",
        "# 1.6: get all the files (and directories) in the current directory - Version 1\n",
        "#------------------------------------------------------------------------\n",
        "\n",
        "# Example 1:\n",
        "\n",
        "import os\n",
        "allFiles = os.listdir()\n",
        "print(allFiles)\n"
      ],
      "execution_count": null,
      "outputs": []
    },
    {
      "cell_type": "code",
      "metadata": {
        "scrolled": true,
        "id": "c7EYsGXoQ89B"
      },
      "source": [
        "# Example 2:\n",
        "\n",
        "import os\n",
        "allFiles = os.listdir()\n",
        "for f in allFiles:\n",
        "    print(f)\n",
        "\n",
        "    "
      ],
      "execution_count": null,
      "outputs": []
    },
    {
      "cell_type": "markdown",
      "metadata": {
        "id": "Y8J5PxZnQ89C"
      },
      "source": [
        "### 1.7: List all the files present in a directory - Version 2"
      ]
    },
    {
      "cell_type": "code",
      "metadata": {
        "scrolled": true,
        "id": "cXcJ_qj7Q89D",
        "colab": {
          "base_uri": "https://localhost:8080/",
          "height": 0
        },
        "outputId": "f81dea23-b761-4cfe-c862-19f885c36122"
      },
      "source": [
        "#------------------------------------------------------------------------\n",
        "# 1.7: List all the files present in a directory - Version 2\n",
        "#------------------------------------------------------------------------\n",
        "#Example 1:\n",
        "\n",
        "import glob\n",
        "allFiles = glob.glob(\"*.ipynb\")\n",
        "print(allFiles)\n",
        "\n"
      ],
      "execution_count": 21,
      "outputs": [
        {
          "output_type": "stream",
          "text": [
            "[]\n"
          ],
          "name": "stdout"
        }
      ]
    },
    {
      "cell_type": "code",
      "metadata": {
        "id": "kW8bc2LBQ89E"
      },
      "source": [
        "#Example 2:\n",
        "\n",
        "import glob\n",
        "allFiles = glob.glob(\"*.ipynb\")\n",
        "for f in allFiles:\n",
        "    print(f)\n"
      ],
      "execution_count": 22,
      "outputs": []
    },
    {
      "cell_type": "markdown",
      "metadata": {
        "id": "hV8PhSEVQ89F"
      },
      "source": [
        "### 1.8: Get the current working directory"
      ]
    },
    {
      "cell_type": "code",
      "metadata": {
        "scrolled": true,
        "id": "mS8YUq0EQ89F",
        "colab": {
          "base_uri": "https://localhost:8080/",
          "height": 0
        },
        "outputId": "85dd1fc3-2cc9-4173-ed3d-50db09e038ca"
      },
      "source": [
        "#------------------------------------------------------------------------\n",
        "# 1.8: Get the current working directory\n",
        "#------------------------------------------------------------------------\n",
        "import os\n",
        "\n",
        "# Getting the current work directory; similar to pwd in Linux\n",
        "currentDirName = os.getcwd()\n",
        "\n",
        "print(currentDirName)\n"
      ],
      "execution_count": 23,
      "outputs": [
        {
          "output_type": "stream",
          "text": [
            "/content\n"
          ],
          "name": "stdout"
        }
      ]
    },
    {
      "cell_type": "markdown",
      "metadata": {
        "id": "QB-vURjrQ89H"
      },
      "source": [
        "### 1.9: Delete a file"
      ]
    },
    {
      "cell_type": "code",
      "metadata": {
        "scrolled": true,
        "id": "wpLvYkenQ89I",
        "colab": {
          "base_uri": "https://localhost:8080/",
          "height": 0
        },
        "outputId": "43465a41-83ff-4e5b-fd42-c47d3f21b8a2"
      },
      "source": [
        "#------------------------------------------------------------------------\n",
        "# 1.9: Delete a file\n",
        "#------------------------------------------------------------------------\n",
        "import os\n",
        "\n",
        "try:\n",
        "    os.remove(\"textdata.txt\")\n",
        "    print (\"File Deleted !!\")\n",
        "except:\n",
        "    print (\"Error !! File not found \")\n",
        "\n"
      ],
      "execution_count": 25,
      "outputs": [
        {
          "output_type": "stream",
          "text": [
            "File Deleted !!\n"
          ],
          "name": "stdout"
        }
      ]
    },
    {
      "cell_type": "markdown",
      "metadata": {
        "id": "N0oZZ74qQ89I"
      },
      "source": [
        "### 1.10: Check if File exist"
      ]
    },
    {
      "cell_type": "code",
      "metadata": {
        "scrolled": true,
        "id": "G7DldjlrQ89J",
        "colab": {
          "base_uri": "https://localhost:8080/",
          "height": 0
        },
        "outputId": "bfb05bb5-2cb6-48d5-e4da-7837b986c5fe"
      },
      "source": [
        "#------------------------------------------------------------------------\n",
        "# 1.10: Check if File exist\n",
        "#------------------------------------------------------------------------\n",
        "import os\n",
        "\n",
        "if os.path.exists(\"textdata.txt\"):\n",
        "  os.remove(\"demofile.txt\")\n",
        "else:\n",
        "  print(\"The file does not exist\") \n"
      ],
      "execution_count": 27,
      "outputs": [
        {
          "output_type": "stream",
          "text": [
            "The file does not exist\n"
          ],
          "name": "stdout"
        }
      ]
    },
    {
      "cell_type": "markdown",
      "metadata": {
        "id": "cWqJh__NQ89J"
      },
      "source": [
        "### 1.11: Delete a directory"
      ]
    },
    {
      "cell_type": "code",
      "metadata": {
        "scrolled": true,
        "id": "Nxv24TvcQ89K"
      },
      "source": [
        "#------------------------------------------------------------------------\n",
        "# 1.11: Delete a directory\n",
        "#------------------------------------------------------------------------\n",
        "\n",
        "# Note: You can only remove empty folders.\n",
        "\n",
        "import os\n",
        "\n",
        "try:\n",
        "    os.rmdir(\"FakeFolder\") \n",
        "    print (\"Directory Deleted !!\")\n",
        "except:\n",
        "    print (\"Error !! File/Directory not found \")\n"
      ],
      "execution_count": null,
      "outputs": []
    },
    {
      "cell_type": "markdown",
      "metadata": {
        "id": "rMmqk3mJQ89K"
      },
      "source": [
        "### Assignment:\n",
        "\n",
        "###### Program 1: \n",
        "Create 500 txt files in a directory. Every file contains 20,000 lines and every line contain random string of length 20 characters. \n",
        "\n",
        "###### Program 2:\n",
        "Calculate the execution time to convert all the file to upper case. Save the results in csv file as given below.\n",
        "\n",
        "\n",
        "No. of Files |  Time Taken (sec)\n",
        "_______________________________\n",
        "     100   |  50\n",
        "     200   |  70\n",
        "     300   |  85\n",
        "     400   |  95\n",
        "     500   |  110\n",
        "\n",
        "\n",
        "Note: \n",
        "1. Explore the time library to get the execution time (Final Time - Start Time).\n",
        "2. Deadline: 23 Aug 2020 | 23:59:59\n",
        "3. You need to submit three files \n",
        "   - python file for program 1\n",
        "   - python file for program 2\n",
        "   - csv file for program 2\n",
        "4. For more info and submission guideline please visist Assignment section in course homepage.\n"
      ]
    },
    {
      "cell_type": "code",
      "metadata": {
        "id": "SqJ3avisQ89L"
      },
      "source": [
        ""
      ],
      "execution_count": null,
      "outputs": []
    },
    {
      "cell_type": "markdown",
      "metadata": {
        "id": "QUOLCC0LQ89M"
      },
      "source": [
        "## 2: Lambda\n",
        "\n",
        "#####  - A lambda function is a small anonymous function.\n",
        "#####  - A lambda function can take any number of arguments, but can only have one expression.\n",
        "##### - Lambdas provide compact syntax for writing functions which return a single expression\n",
        "\n",
        "### - Lanbda allows you to provide a function as a parameter to another function (for example, in map, filter, etc.). In such cases, using lambdas offer an elegant way to create a one-time function and pass it as the parameter. \n",
        "\n",
        "Syntax:\n",
        "\n",
        "lambda arguments : expression\n"
      ]
    },
    {
      "cell_type": "markdown",
      "metadata": {
        "id": "HvhPzetuQ89M"
      },
      "source": [
        "### 2.1: Adds n to the number passed"
      ]
    },
    {
      "cell_type": "code",
      "metadata": {
        "scrolled": true,
        "id": "yrtEOEoQQ89N",
        "colab": {
          "base_uri": "https://localhost:8080/",
          "height": 0
        },
        "outputId": "a6d77f78-afa7-4155-e774-4adfbfd96c58"
      },
      "source": [
        "#------------------------------------------------------------------------\n",
        "# 2.1: Adds n to the number passed\n",
        "#------------------------------------------------------------------------\n",
        "\n",
        "n = 100\n",
        "\n",
        "x = lambda a : a + n\n",
        "\n",
        "print(x(5))\n"
      ],
      "execution_count": 28,
      "outputs": [
        {
          "output_type": "stream",
          "text": [
            "105\n"
          ],
          "name": "stdout"
        }
      ]
    },
    {
      "cell_type": "markdown",
      "metadata": {
        "id": "QN7-ArjkQ89N"
      },
      "source": [
        "### 2.2: Lambda functions can take any number of arguments:"
      ]
    },
    {
      "cell_type": "code",
      "metadata": {
        "scrolled": true,
        "id": "wLy9MMLjQ89O"
      },
      "source": [
        "#------------------------------------------------------------------------\n",
        "# 2.2: Lambda functions can take any number of arguments:\n",
        "#------------------------------------------------------------------------\n",
        "\n",
        "# Example 1:\n",
        "\n",
        "x = lambda a, b : a * b\n",
        "\n",
        "print(x(5, 6))\n"
      ],
      "execution_count": null,
      "outputs": []
    },
    {
      "cell_type": "code",
      "metadata": {
        "scrolled": true,
        "id": "eZa9inGSQ89P"
      },
      "source": [
        "# Example 2:\n",
        "\n",
        "x = lambda a, b, c : a + b + c\n",
        "\n",
        "print(x(5, 6, 2)) \n"
      ],
      "execution_count": null,
      "outputs": []
    },
    {
      "cell_type": "markdown",
      "metadata": {
        "id": "H3pxYR-OQ89P"
      },
      "source": [
        "## Why Use Lambda Functions?\n",
        "\n",
        "### 2.3: The power of lambda is better shown when you use them as an anonymous function inside another function.\n",
        "Say you have a function definition that takes one argument, and that argument will be multiplied with an unknown number:"
      ]
    },
    {
      "cell_type": "code",
      "metadata": {
        "scrolled": true,
        "id": "734L_lg3Q89Q"
      },
      "source": [
        "#------------------------------------------------------------------------\n",
        "# 2.3: a function definition that takes one argument, and that argument will be multiplied with an unknown number:\n",
        "#------------------------------------------------------------------------\n",
        "\n",
        "# Example 1: Double\n",
        "\n",
        "def myfunc(n):\n",
        "  return lambda a : a * n\n",
        "\n",
        "mydoubler = myfunc(2)\n",
        "print(mydoubler(11))\n"
      ],
      "execution_count": null,
      "outputs": []
    },
    {
      "cell_type": "code",
      "metadata": {
        "scrolled": true,
        "id": "GE32zh53Q89Q"
      },
      "source": [
        "# Example 2: Double / Triple\n",
        "\n",
        "# use the same function definition to make both functions, in the same program:\n",
        "# Use lambda functions when an anonymous function is required for a short period of time.\n",
        "\n",
        "def myfunc(n):\n",
        "  return lambda a : a * n\n",
        "\n",
        "mydoubler = myfunc(2)\n",
        "mytripler = myfunc(3)\n",
        "\n",
        "print(mydoubler(11))\n",
        "print(mytripler(11))\n"
      ],
      "execution_count": null,
      "outputs": []
    },
    {
      "cell_type": "markdown",
      "metadata": {
        "id": "xaDYQws6Q89R"
      },
      "source": [
        "### 2.4: lambdas in filter()\n",
        "\n",
        "The filter function is used to select some particular elements from a sequence of elements. The sequence can be any iterator like lists, sets, tuples, etc. "
      ]
    },
    {
      "cell_type": "code",
      "metadata": {
        "scrolled": true,
        "id": "64LmK0X9Q89R"
      },
      "source": [
        "#------------------------------------------------------------------------\n",
        "# 2.4: Filter from List using Lambda\n",
        "#------------------------------------------------------------------------\n",
        "\n",
        "L = [10,2,8,7,5,4,3,11,0, 1]         # List of Number\n",
        "\n",
        "result = filter (lambda x: x > 4, L) \n",
        "\n",
        "print(result)\n",
        "print(list(result))\n"
      ],
      "execution_count": null,
      "outputs": []
    },
    {
      "cell_type": "markdown",
      "metadata": {
        "id": "KHkiPSGLQ89S"
      },
      "source": [
        "### 2.5: lambdas in map()\n",
        "\n",
        "The map function is used to apply a particular operation to every element in a sequence. Like filter(), it also takes 2 parameters:"
      ]
    },
    {
      "cell_type": "code",
      "metadata": {
        "scrolled": true,
        "id": "-bkHBvFGQ89S"
      },
      "source": [
        "#------------------------------------------------------------------------\n",
        "# 2.5: lambdas in map()\n",
        "#------------------------------------------------------------------------\n",
        "\n",
        "# Example 1:\n",
        "\n",
        "L = [1,2,3,4,5]      # List of Number\n",
        "\n",
        "result = map (lambda x: x * x, L)\n",
        "\n",
        "print(result)\n",
        "print(list(result))\n"
      ],
      "execution_count": null,
      "outputs": []
    },
    {
      "cell_type": "code",
      "metadata": {
        "scrolled": true,
        "id": "jq1X3ldEQ89S"
      },
      "source": [
        "# Example 2:\n",
        "\n",
        "L = ['1','2','3','4','5']       # List of Characters\n",
        "\n",
        "result = map (lambda x: x + x, L) \n",
        "\n",
        "print(result)\n",
        "print(list(result))\n"
      ],
      "execution_count": null,
      "outputs": []
    },
    {
      "cell_type": "markdown",
      "metadata": {
        "id": "elM7iHNoQ89T"
      },
      "source": [
        "### 2.6: lambdas in reduce()\n",
        "\n",
        "The reduce function, like map(), is used to apply an operation to every element in a sequence. However, it differs from the map in its working."
      ]
    },
    {
      "cell_type": "code",
      "metadata": {
        "scrolled": true,
        "id": "OvSiiFuUQ89T"
      },
      "source": [
        "#------------------------------------------------------------------------\n",
        "# 2.6: lambdas in reduce(): \n",
        "#------------------------------------------------------------------------\n",
        "\n",
        "# Example 1:\n",
        "from functools import reduce\n",
        "\n",
        "L = [1,2,3,4,5]   # List of Number\n",
        "\n",
        "Sum = reduce (lambda x, y: x + y, L)\n",
        "Product = reduce (lambda x, y: x * y, L)\n",
        "\n",
        "print(\"Sum     --> \", Sum)\n",
        "print(\"Product -->\", Product)\n"
      ],
      "execution_count": null,
      "outputs": []
    },
    {
      "cell_type": "code",
      "metadata": {
        "id": "QiJvnGEqQ89U"
      },
      "source": [
        "# Example 2 :\n",
        "from functools import reduce\n",
        "\n",
        "L = ['1','2','3','4','5']      # List of Characters\n",
        "\n",
        "Sum = reduce (lambda x, y: x + y, L)\n",
        "\n",
        "print(\"Sum     --> \", Sum)"
      ],
      "execution_count": null,
      "outputs": []
    },
    {
      "cell_type": "markdown",
      "metadata": {
        "id": "0m8Yh4SiQ89U"
      },
      "source": [
        "### Note: Explore more for lambada yourself"
      ]
    }
  ]
}